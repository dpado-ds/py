{
 "cells": [
  {
   "cell_type": "markdown",
   "metadata": {},
   "source": [
    "# Сбор и анализ отзывов о ресторанах на tripadvisor.ru"
   ]
  },
  {
   "cell_type": "markdown",
   "metadata": {},
   "source": [
    "## Crawler"
   ]
  },
  {
   "cell_type": "markdown",
   "metadata": {},
   "source": [
    "В проекте, вооружившись статьями из разных уважаемых источников (например, [\"Ведомости\"](https://www.vedomosti.ru/lifestyle/articles/2016/03/25/637995-vesna-v-restoranah-moskvi),) я решила посмотреть, можно ли, обработав данные о московских ресторанах с известными средним чеком и датой первого отзыва на сайте tripadvisor.com, сделать вывод о том, что в кризис посетители стали предпочитать более бюджетные рестораны"
   ]
  },
  {
   "cell_type": "code",
   "execution_count": 3,
   "metadata": {
    "collapsed": false,
    "scrolled": true
   },
   "outputs": [],
   "source": [
    "from selenium import webdriver\n",
    "from bs4 import BeautifulSoup as bs\n",
    "import pandas as pd\n",
    "import re\n",
    "import time\n",
    "import datetime\n",
    "import urllib\n",
    "import datetime\n",
    "import numpy as np\n",
    "import matplotlib.pyplot as plt\n",
    "import csv\n",
    "import xlsxwriter\n",
    "writer = pd.ExcelWriter('reviews.xlsx', engine='xlsxwriter')\n",
    "%matplotlib inline"
   ]
  },
  {
   "cell_type": "code",
   "execution_count": 8,
   "metadata": {
    "collapsed": false,
    "scrolled": true
   },
   "outputs": [],
   "source": [
    "# Загрузить стартовую страницу и подготовить файл для записи\n",
    "driver = webdriver.Chrome('C:/Users/Daria/Documents/chromedriver.exe')\n",
    "ref = 'https://www.tripadvisor.com/Restaurants-g298484-Moscow_Central_Russia.html#MAINWRAP'\n",
    "driver.get(ref)\n",
    "filters = ['//*[@id=\"jfy_filter_bar_price\"]/div[2]/div[1]',\n",
    "           '//*[@id=\"jfy_filter_bar_price\"]/div[2]/div[2]',\n",
    "           '//*[@id=\"jfy_filter_bar_price\"]/div[2]/div[3]']\n",
    "for f in filters:\n",
    "    i = 0\n",
    "    while not 'selected' in driver.find_element_by_xpath(f).get_attribute('class') or i > 10:\n",
    "        driver.find_element_by_xpath(f).click()\n",
    "        time.sleep(1)\n",
    "        i += 1\n",
    "source = driver.page_source"
   ]
  },
  {
   "cell_type": "code",
   "execution_count": 9,
   "metadata": {
    "collapsed": false
   },
   "outputs": [],
   "source": [
    "# Функция выгружает рестораны с ненулевым количеством отзывов, получает имя ресторана, средний чек и ссылку на страницу с отзывами\n",
    "def download_rests_data(page, file):\n",
    "    soup = bs(page, 'lxml')\n",
    "    divs = soup.findAll('div', class_='shortSellDetails')\n",
    "    # Удалить рестораны с пустыми отзывами - exception из-за разной двух вариантов структуры тэгов с нулевыми отзывами\n",
    "    rests_with_reviews = []\n",
    "    for div in divs:\n",
    "        try:\n",
    "            if div.find('div', class_ = \"rating\").a.text.strip() != 'Оставить первый отзыв об этом ресторане':\n",
    "                rests_with_reviews.append(div)\n",
    "        except:\n",
    "            pass\n",
    "    # Получить имя ресторана\n",
    "    names = [div.find('h3', class_='title').text.strip() for div in rests_with_reviews]\n",
    "    print(len(names))\n",
    "    # Получить средний чек\n",
    "    checks = []\n",
    "    for div in rests_with_reviews:\n",
    "        try:\n",
    "            check = div.find('span', class_='price').text.strip()\n",
    "        except:\n",
    "            check = 'NaN'\n",
    "        checks.append(check)\n",
    "    # Получить ссылки на отзывы\n",
    "    hrefs_raw = [div.find('span', class_='reviewCount') for div in rests_with_reviews]\n",
    "    hrefs = ['https://www.tripadvisor.ru' + i.a['href'] for i in hrefs_raw]\n",
    "    # дописать в файл\n",
    "    database = pd.DataFrame(data = list(zip(names, checks, hrefs)))\n",
    "    with open(file, 'a') as f:\n",
    "        database.to_csv(f, encoding='unicode', header = False, index=False)"
   ]
  },
  {
   "cell_type": "code",
   "execution_count": 10,
   "metadata": {
    "collapsed": false,
    "scrolled": false
   },
   "outputs": [
    {
     "name": "stdout",
     "output_type": "stream",
     "text": [
      "126\n",
      "30\n",
      "1 DONE\n",
      "30\n",
      "2 DONE\n",
      "30\n",
      "3 DONE\n",
      "30\n",
      "4 DONE\n",
      "30\n",
      "5 DONE\n",
      "30\n",
      "6 DONE\n",
      "30\n",
      "7 DONE\n",
      "30\n",
      "8 DONE\n",
      "30\n",
      "9 DONE\n",
      "30\n",
      "10 DONE\n"
     ]
    }
   ],
   "source": [
    "# Проходим по выданным фильтром страницам и собираем начальную информацию\n",
    "page_num = 1\n",
    "position = 30\n",
    "last_page = int(driver.find_element_by_css_selector(\"#EATERY_LIST_CONTENTS > div.deckTools.btm > div > div > a:nth-child(8)\").text)\n",
    "print(last_page)\n",
    "while page_num <= 10:\n",
    "    href = 'https://www.tripadvisor.ru/RestaurantSearch-g298484-oa' + str(position) + '-p15-Moscow_Central_Russia.html#EATERY_LIST_CONTENTS'\n",
    "    driver.get(href)\n",
    "    source = driver.page_source\n",
    "    download_rests_data(source, 'tripadvisor_restaurants.csv')\n",
    "    print(page_num, \"DONE\")\n",
    "    page_num = page_num + 1\n",
    "    position = position + 30"
   ]
  },
  {
   "cell_type": "code",
   "execution_count": 11,
   "metadata": {
    "collapsed": false,
    "scrolled": true
   },
   "outputs": [],
   "source": [
    "# Открываем получившийся CSV в виде датафрейма, добавляем хэдеры\n",
    "database = pd.read_csv('tripadvisor_restaurants.csv', header = None, names = ['Name', 'Avg check', 'Hrefs'], encoding = 'cp1251')"
   ]
  },
  {
   "cell_type": "code",
   "execution_count": 12,
   "metadata": {
    "collapsed": false,
    "scrolled": true
   },
   "outputs": [
    {
     "data": {
      "text/html": [
       "<div>\n",
       "<table border=\"1\" class=\"dataframe\">\n",
       "  <thead>\n",
       "    <tr style=\"text-align: right;\">\n",
       "      <th></th>\n",
       "      <th>Name</th>\n",
       "      <th>Avg check</th>\n",
       "      <th>Hrefs</th>\n",
       "    </tr>\n",
       "  </thead>\n",
       "  <tbody>\n",
       "    <tr>\n",
       "      <th>1</th>\n",
       "      <td>Китайская Грамота</td>\n",
       "      <td>$$ - $$$</td>\n",
       "      <td>https://www.tripadvisor.ru/Restaurant_Review-g...</td>\n",
       "    </tr>\n",
       "    <tr>\n",
       "      <th>2</th>\n",
       "      <td>Большой</td>\n",
       "      <td>$$$$</td>\n",
       "      <td>https://www.tripadvisor.ru/Restaurant_Review-g...</td>\n",
       "    </tr>\n",
       "    <tr>\n",
       "      <th>3</th>\n",
       "      <td>FARШ</td>\n",
       "      <td>$$ - $$$</td>\n",
       "      <td>https://www.tripadvisor.ru/Restaurant_Review-g...</td>\n",
       "    </tr>\n",
       "    <tr>\n",
       "      <th>4</th>\n",
       "      <td>Fresh</td>\n",
       "      <td>$$ - $$$</td>\n",
       "      <td>https://www.tripadvisor.ru/Restaurant_Review-g...</td>\n",
       "    </tr>\n",
       "    <tr>\n",
       "      <th>5</th>\n",
       "      <td>Красти Краб</td>\n",
       "      <td>$</td>\n",
       "      <td>https://www.tripadvisor.ru/Restaurant_Review-g...</td>\n",
       "    </tr>\n",
       "    <tr>\n",
       "      <th>6</th>\n",
       "      <td>Стейк Хаус Бизон</td>\n",
       "      <td>$$$$</td>\n",
       "      <td>https://www.tripadvisor.ru/Restaurant_Review-g...</td>\n",
       "    </tr>\n",
       "    <tr>\n",
       "      <th>7</th>\n",
       "      <td>Restaurant Bjorn</td>\n",
       "      <td>$$ - $$$</td>\n",
       "      <td>https://www.tripadvisor.ru/Restaurant_Review-g...</td>\n",
       "    </tr>\n",
       "    <tr>\n",
       "      <th>8</th>\n",
       "      <td>Кафе Натахтари</td>\n",
       "      <td>$$ - $$$</td>\n",
       "      <td>https://www.tripadvisor.ru/Restaurant_Review-g...</td>\n",
       "    </tr>\n",
       "    <tr>\n",
       "      <th>9</th>\n",
       "      <td>Пропаганда</td>\n",
       "      <td>$$ - $$$</td>\n",
       "      <td>https://www.tripadvisor.ru/Restaurant_Review-g...</td>\n",
       "    </tr>\n",
       "    <tr>\n",
       "      <th>10</th>\n",
       "      <td>Ресторан White Rabbit</td>\n",
       "      <td>$$$$</td>\n",
       "      <td>https://www.tripadvisor.ru/Restaurant_Review-g...</td>\n",
       "    </tr>\n",
       "  </tbody>\n",
       "</table>\n",
       "</div>"
      ],
      "text/plain": [
       "                     Name Avg check  \\\n",
       "1       Китайская Грамота  $$ - $$$   \n",
       "2                 Большой      $$$$   \n",
       "3                    FARШ  $$ - $$$   \n",
       "4                   Fresh  $$ - $$$   \n",
       "5             Красти Краб         $   \n",
       "6        Стейк Хаус Бизон      $$$$   \n",
       "7        Restaurant Bjorn  $$ - $$$   \n",
       "8          Кафе Натахтари  $$ - $$$   \n",
       "9              Пропаганда  $$ - $$$   \n",
       "10  Ресторан White Rabbit      $$$$   \n",
       "\n",
       "                                                Hrefs  \n",
       "1   https://www.tripadvisor.ru/Restaurant_Review-g...  \n",
       "2   https://www.tripadvisor.ru/Restaurant_Review-g...  \n",
       "3   https://www.tripadvisor.ru/Restaurant_Review-g...  \n",
       "4   https://www.tripadvisor.ru/Restaurant_Review-g...  \n",
       "5   https://www.tripadvisor.ru/Restaurant_Review-g...  \n",
       "6   https://www.tripadvisor.ru/Restaurant_Review-g...  \n",
       "7   https://www.tripadvisor.ru/Restaurant_Review-g...  \n",
       "8   https://www.tripadvisor.ru/Restaurant_Review-g...  \n",
       "9   https://www.tripadvisor.ru/Restaurant_Review-g...  \n",
       "10  https://www.tripadvisor.ru/Restaurant_Review-g...  "
      ]
     },
     "execution_count": 12,
     "metadata": {},
     "output_type": "execute_result"
    }
   ],
   "source": [
    "database[1:11]"
   ]
  },
  {
   "cell_type": "markdown",
   "metadata": {},
   "source": [
    "Тут средний чек отобразился неправильно из-за встроенной кодировки, но в самом csv-файле все в порядке"
   ]
  },
  {
   "cell_type": "code",
   "execution_count": 13,
   "metadata": {
    "collapsed": false,
    "scrolled": true
   },
   "outputs": [],
   "source": [
    "def get_revs_data(page):\n",
    "    driver.get(page)\n",
    "    try:\n",
    "        last_page = int(driver.find_element_by_xpath((\"//a[@class='pageNum taLnk' and contains(@onclick,'last')]\")).text)\n",
    "    except:\n",
    "        last_page = 1\n",
    "    months = {' января ':'01', ' февраля ':'02', ' марта ':'03', ' апреля ':'04', ' мая ':'05', ' июня ':'06', ' июля ':'07', ' августа ':'08',\n",
    "            ' сентября ':'09', ' октября ':'10', ' ноября ':'11', ' декабря ':'12'}\n",
    "    pattern = re.compile(r'\\b(' +'|'.join(months.keys())+ r')\\b')\n",
    "    page_num = 1\n",
    "    position = 10\n",
    "    dates = []\n",
    "    ratings = []\n",
    "    while page_num <= last_page:\n",
    "        if page_num == 1:\n",
    "            rev_href = page\n",
    "        else:\n",
    "            rev_href = re.sub(r'^((.*?-.*?){2})-', r'\\1-or%s-' %position, page)\n",
    "            if page_num < last_page:\n",
    "                position += 10\n",
    "            driver.get(rev_href)\n",
    "        rest_soup = bs(driver.page_source,'lxml')\n",
    "        review_bubbles = rest_soup.findAll('div', class_='reviewItemInline')\n",
    "        for bubble in review_bubbles:\n",
    "            # Получим даты отзывов\n",
    "            raw_date1 = bubble.find('span', class_='ratingDate')\n",
    "            # Из-за неоднородной структуры страниц несколько исключений\n",
    "            try:\n",
    "                raw_date1.string.replace_with(raw_date1.string.strip())\n",
    "            except:\n",
    "                raw_date1.previousSibling.replace_with(raw_date1.previousSibling.strip())\n",
    "            try:\n",
    "                date = raw_date1['title']\n",
    "            except:\n",
    "                date = raw_date1.text.split(' ', 2)[-1]\n",
    "            raw_date2 = pattern.sub(lambda x: months[x.group()], date)\n",
    "                # В некоторых случаях strptime не парсит даты, например '3122013' возвращает ошибку out of range\n",
    "            if len(raw_date2) == 7:\n",
    "                raw_date2 = '0' + raw_date2\n",
    "            date_fine = datetime.datetime.strptime(raw_date2, \"%d%m%Y\").date()\n",
    "            dates.append(date_fine)\n",
    "                # Собираем рейтинги\n",
    "            rating = int(bubble.img['alt'].split(' ',1)[0])\n",
    "            ratings.append(rating)\n",
    "        print(page_num, ' done')\n",
    "        page_num += 1\n",
    "    stat = pd.DataFrame({'Оценка':ratings, 'Дата':dates})\n",
    "    return stat"
   ]
  },
  {
   "cell_type": "code",
   "execution_count": 14,
   "metadata": {
    "collapsed": false,
    "scrolled": true
   },
   "outputs": [
    {
     "data": {
      "text/plain": [
       "'Китайская Грамота'"
      ]
     },
     "execution_count": 14,
     "metadata": {},
     "output_type": "execute_result"
    }
   ],
   "source": [
    "stats = []\n",
    "name = database['Name'][database['Hrefs'] == 'https://www.tripadvisor.ru/Restaurant_Review-g298484-d6495969-Reviews-Kitayskaya_Gramota-Moscow_Central_Russia.html#REVIEWS']\n",
    "name.values[0]"
   ]
  },
  {
   "cell_type": "code",
   "execution_count": 15,
   "metadata": {
    "collapsed": false,
    "scrolled": true
   },
   "outputs": [
    {
     "name": "stdout",
     "output_type": "stream",
     "text": [
      "0      Хачапури\n",
      "150    Хачапури\n",
      "Name: Name, dtype: object\n",
      "1  done\n",
      "2  done\n",
      "3  done\n",
      "4  done\n",
      "5  done\n",
      "6  done\n",
      "7  done\n",
      "8  done\n",
      "9  done\n",
      "10  done\n",
      "11  done\n",
      "12  done\n",
      "13  done\n",
      "14  done\n",
      "15  done\n",
      "16  done\n",
      "17  done\n",
      "18  done\n",
      "19  done\n",
      "20  done\n",
      "21  done\n",
      "22  done\n",
      "23  done\n",
      "24  done\n",
      "25  done\n",
      "26  done\n",
      "27  done\n",
      "28  done\n",
      "29  done\n",
      "30  done\n",
      "31  done\n",
      "32  done\n",
      "33  done\n",
      "34  done\n",
      "35  done\n",
      "36  done\n",
      "37  done\n",
      "38  done\n",
      "39  done\n",
      "40  done\n",
      "41  done\n",
      "42  done\n",
      "43  done\n",
      "44  done\n",
      "45  done\n",
      "46  done\n",
      "47  done\n",
      "48  done\n",
      "49  done\n",
      "50  done\n",
      "51  done\n",
      "0      Хачапури\n",
      "150    Хачапури\n",
      "Name: Name, dtype: object DONE\n",
      "1      Китайская Грамота\n",
      "151    Китайская Грамота\n",
      "Name: Name, dtype: object\n",
      "1  done\n",
      "2  done\n",
      "3  done\n",
      "4  done\n",
      "5  done\n",
      "6  done\n",
      "7  done\n",
      "8  done\n",
      "9  done\n",
      "10  done\n",
      "11  done\n",
      "12  done\n",
      "13  done\n",
      "14  done\n",
      "15  done\n",
      "16  done\n",
      "17  done\n",
      "18  done\n",
      "19  done\n",
      "20  done\n",
      "21  done\n",
      "22  done\n",
      "23  done\n",
      "24  done\n",
      "25  done\n",
      "26  done\n",
      "27  done\n",
      "28  done\n",
      "29  done\n",
      "30  done\n",
      "31  done\n",
      "32  done\n",
      "33  done\n",
      "34  done\n",
      "35  done\n",
      "36  done\n",
      "37  done\n",
      "38  done\n",
      "39  done\n",
      "40  done\n",
      "41  done\n",
      "1      Китайская Грамота\n",
      "151    Китайская Грамота\n",
      "Name: Name, dtype: object DONE\n",
      "2      Большой\n",
      "152    Большой\n",
      "Name: Name, dtype: object\n",
      "1  done\n",
      "2  done\n",
      "3  done\n",
      "4  done\n",
      "5  done\n",
      "6  done\n",
      "7  done\n",
      "8  done\n",
      "9  done\n",
      "10  done\n",
      "11  done\n",
      "12  done\n",
      "13  done\n",
      "14  done\n",
      "15  done\n",
      "16  done\n",
      "17  done\n",
      "18  done\n",
      "19  done\n"
     ]
    },
    {
     "ename": "KeyboardInterrupt",
     "evalue": "",
     "output_type": "error",
     "traceback": [
      "\u001b[1;31m---------------------------------------------------------------------------\u001b[0m",
      "\u001b[1;31mKeyboardInterrupt\u001b[0m                         Traceback (most recent call last)",
      "\u001b[1;32m<ipython-input-15-6153f7c61c3c>\u001b[0m in \u001b[0;36m<module>\u001b[1;34m()\u001b[0m\n\u001b[0;32m      5\u001b[0m     \u001b[0mname\u001b[0m \u001b[1;33m=\u001b[0m \u001b[0mdatabase\u001b[0m\u001b[1;33m[\u001b[0m\u001b[1;34m'Name'\u001b[0m\u001b[1;33m]\u001b[0m\u001b[1;33m[\u001b[0m\u001b[0mdatabase\u001b[0m\u001b[1;33m[\u001b[0m\u001b[1;34m'Hrefs'\u001b[0m\u001b[1;33m]\u001b[0m \u001b[1;33m==\u001b[0m \u001b[0mhref\u001b[0m\u001b[1;33m]\u001b[0m\u001b[1;33m\u001b[0m\u001b[0m\n\u001b[0;32m      6\u001b[0m     \u001b[0mprint\u001b[0m\u001b[1;33m(\u001b[0m\u001b[0mname\u001b[0m\u001b[1;33m)\u001b[0m\u001b[1;33m\u001b[0m\u001b[0m\n\u001b[1;32m----> 7\u001b[1;33m     \u001b[0mrevs\u001b[0m \u001b[1;33m=\u001b[0m \u001b[0mget_revs_data\u001b[0m\u001b[1;33m(\u001b[0m\u001b[0mhref\u001b[0m\u001b[1;33m)\u001b[0m\u001b[1;33m\u001b[0m\u001b[0m\n\u001b[0m\u001b[0;32m      8\u001b[0m     \u001b[0mrevs\u001b[0m\u001b[1;33m.\u001b[0m\u001b[0mto_excel\u001b[0m\u001b[1;33m(\u001b[0m\u001b[0mwriter\u001b[0m\u001b[1;33m,\u001b[0m \u001b[0msheet_name\u001b[0m \u001b[1;33m=\u001b[0m \u001b[0mstr\u001b[0m\u001b[1;33m(\u001b[0m\u001b[0mname\u001b[0m\u001b[1;33m.\u001b[0m\u001b[0mvalues\u001b[0m\u001b[1;33m[\u001b[0m\u001b[1;36m0\u001b[0m\u001b[1;33m]\u001b[0m\u001b[1;33m)\u001b[0m\u001b[1;33m)\u001b[0m\u001b[1;33m\u001b[0m\u001b[0m\n\u001b[0;32m      9\u001b[0m     \u001b[0mprint\u001b[0m\u001b[1;33m(\u001b[0m\u001b[0mname\u001b[0m\u001b[1;33m,\u001b[0m \u001b[1;34m'DONE'\u001b[0m\u001b[1;33m)\u001b[0m\u001b[1;33m\u001b[0m\u001b[0m\n",
      "\u001b[1;32m<ipython-input-13-60fdd74f830c>\u001b[0m in \u001b[0;36mget_revs_data\u001b[1;34m(page)\u001b[0m\n\u001b[0;32m     19\u001b[0m             \u001b[1;32mif\u001b[0m \u001b[0mpage_num\u001b[0m \u001b[1;33m<\u001b[0m \u001b[0mlast_page\u001b[0m\u001b[1;33m:\u001b[0m\u001b[1;33m\u001b[0m\u001b[0m\n\u001b[0;32m     20\u001b[0m                 \u001b[0mposition\u001b[0m \u001b[1;33m+=\u001b[0m \u001b[1;36m10\u001b[0m\u001b[1;33m\u001b[0m\u001b[0m\n\u001b[1;32m---> 21\u001b[1;33m             \u001b[0mdriver\u001b[0m\u001b[1;33m.\u001b[0m\u001b[0mget\u001b[0m\u001b[1;33m(\u001b[0m\u001b[0mrev_href\u001b[0m\u001b[1;33m)\u001b[0m\u001b[1;33m\u001b[0m\u001b[0m\n\u001b[0m\u001b[0;32m     22\u001b[0m         \u001b[0mrest_soup\u001b[0m \u001b[1;33m=\u001b[0m \u001b[0mbs\u001b[0m\u001b[1;33m(\u001b[0m\u001b[0mdriver\u001b[0m\u001b[1;33m.\u001b[0m\u001b[0mpage_source\u001b[0m\u001b[1;33m,\u001b[0m\u001b[1;34m'lxml'\u001b[0m\u001b[1;33m)\u001b[0m\u001b[1;33m\u001b[0m\u001b[0m\n\u001b[0;32m     23\u001b[0m         \u001b[0mreview_bubbles\u001b[0m \u001b[1;33m=\u001b[0m \u001b[0mrest_soup\u001b[0m\u001b[1;33m.\u001b[0m\u001b[0mfindAll\u001b[0m\u001b[1;33m(\u001b[0m\u001b[1;34m'div'\u001b[0m\u001b[1;33m,\u001b[0m \u001b[0mclass_\u001b[0m\u001b[1;33m=\u001b[0m\u001b[1;34m'reviewItemInline'\u001b[0m\u001b[1;33m)\u001b[0m\u001b[1;33m\u001b[0m\u001b[0m\n",
      "\u001b[1;32mC:\\Users\\Daria\\Anaconda3\\lib\\site-packages\\selenium\\webdriver\\remote\\webdriver.py\u001b[0m in \u001b[0;36mget\u001b[1;34m(self, url)\u001b[0m\n\u001b[0;32m    243\u001b[0m         \u001b[0mLoads\u001b[0m \u001b[0ma\u001b[0m \u001b[0mweb\u001b[0m \u001b[0mpage\u001b[0m \u001b[1;32min\u001b[0m \u001b[0mthe\u001b[0m \u001b[0mcurrent\u001b[0m \u001b[0mbrowser\u001b[0m \u001b[0msession\u001b[0m\u001b[1;33m.\u001b[0m\u001b[1;33m\u001b[0m\u001b[0m\n\u001b[0;32m    244\u001b[0m         \"\"\"\n\u001b[1;32m--> 245\u001b[1;33m         \u001b[0mself\u001b[0m\u001b[1;33m.\u001b[0m\u001b[0mexecute\u001b[0m\u001b[1;33m(\u001b[0m\u001b[0mCommand\u001b[0m\u001b[1;33m.\u001b[0m\u001b[0mGET\u001b[0m\u001b[1;33m,\u001b[0m \u001b[1;33m{\u001b[0m\u001b[1;34m'url'\u001b[0m\u001b[1;33m:\u001b[0m \u001b[0murl\u001b[0m\u001b[1;33m}\u001b[0m\u001b[1;33m)\u001b[0m\u001b[1;33m\u001b[0m\u001b[0m\n\u001b[0m\u001b[0;32m    246\u001b[0m \u001b[1;33m\u001b[0m\u001b[0m\n\u001b[0;32m    247\u001b[0m     \u001b[1;33m@\u001b[0m\u001b[0mproperty\u001b[0m\u001b[1;33m\u001b[0m\u001b[0m\n",
      "\u001b[1;32mC:\\Users\\Daria\\Anaconda3\\lib\\site-packages\\selenium\\webdriver\\remote\\webdriver.py\u001b[0m in \u001b[0;36mexecute\u001b[1;34m(self, driver_command, params)\u001b[0m\n\u001b[0;32m    229\u001b[0m \u001b[1;33m\u001b[0m\u001b[0m\n\u001b[0;32m    230\u001b[0m         \u001b[0mparams\u001b[0m \u001b[1;33m=\u001b[0m \u001b[0mself\u001b[0m\u001b[1;33m.\u001b[0m\u001b[0m_wrap_value\u001b[0m\u001b[1;33m(\u001b[0m\u001b[0mparams\u001b[0m\u001b[1;33m)\u001b[0m\u001b[1;33m\u001b[0m\u001b[0m\n\u001b[1;32m--> 231\u001b[1;33m         \u001b[0mresponse\u001b[0m \u001b[1;33m=\u001b[0m \u001b[0mself\u001b[0m\u001b[1;33m.\u001b[0m\u001b[0mcommand_executor\u001b[0m\u001b[1;33m.\u001b[0m\u001b[0mexecute\u001b[0m\u001b[1;33m(\u001b[0m\u001b[0mdriver_command\u001b[0m\u001b[1;33m,\u001b[0m \u001b[0mparams\u001b[0m\u001b[1;33m)\u001b[0m\u001b[1;33m\u001b[0m\u001b[0m\n\u001b[0m\u001b[0;32m    232\u001b[0m         \u001b[1;32mif\u001b[0m \u001b[0mresponse\u001b[0m\u001b[1;33m:\u001b[0m\u001b[1;33m\u001b[0m\u001b[0m\n\u001b[0;32m    233\u001b[0m             \u001b[0mself\u001b[0m\u001b[1;33m.\u001b[0m\u001b[0merror_handler\u001b[0m\u001b[1;33m.\u001b[0m\u001b[0mcheck_response\u001b[0m\u001b[1;33m(\u001b[0m\u001b[0mresponse\u001b[0m\u001b[1;33m)\u001b[0m\u001b[1;33m\u001b[0m\u001b[0m\n",
      "\u001b[1;32mC:\\Users\\Daria\\Anaconda3\\lib\\site-packages\\selenium\\webdriver\\remote\\remote_connection.py\u001b[0m in \u001b[0;36mexecute\u001b[1;34m(self, command, params)\u001b[0m\n\u001b[0;32m    393\u001b[0m         \u001b[0mpath\u001b[0m \u001b[1;33m=\u001b[0m \u001b[0mstring\u001b[0m\u001b[1;33m.\u001b[0m\u001b[0mTemplate\u001b[0m\u001b[1;33m(\u001b[0m\u001b[0mcommand_info\u001b[0m\u001b[1;33m[\u001b[0m\u001b[1;36m1\u001b[0m\u001b[1;33m]\u001b[0m\u001b[1;33m)\u001b[0m\u001b[1;33m.\u001b[0m\u001b[0msubstitute\u001b[0m\u001b[1;33m(\u001b[0m\u001b[0mparams\u001b[0m\u001b[1;33m)\u001b[0m\u001b[1;33m\u001b[0m\u001b[0m\n\u001b[0;32m    394\u001b[0m         \u001b[0murl\u001b[0m \u001b[1;33m=\u001b[0m \u001b[1;34m'%s%s'\u001b[0m \u001b[1;33m%\u001b[0m \u001b[1;33m(\u001b[0m\u001b[0mself\u001b[0m\u001b[1;33m.\u001b[0m\u001b[0m_url\u001b[0m\u001b[1;33m,\u001b[0m \u001b[0mpath\u001b[0m\u001b[1;33m)\u001b[0m\u001b[1;33m\u001b[0m\u001b[0m\n\u001b[1;32m--> 395\u001b[1;33m         \u001b[1;32mreturn\u001b[0m \u001b[0mself\u001b[0m\u001b[1;33m.\u001b[0m\u001b[0m_request\u001b[0m\u001b[1;33m(\u001b[0m\u001b[0mcommand_info\u001b[0m\u001b[1;33m[\u001b[0m\u001b[1;36m0\u001b[0m\u001b[1;33m]\u001b[0m\u001b[1;33m,\u001b[0m \u001b[0murl\u001b[0m\u001b[1;33m,\u001b[0m \u001b[0mbody\u001b[0m\u001b[1;33m=\u001b[0m\u001b[0mdata\u001b[0m\u001b[1;33m)\u001b[0m\u001b[1;33m\u001b[0m\u001b[0m\n\u001b[0m\u001b[0;32m    396\u001b[0m \u001b[1;33m\u001b[0m\u001b[0m\n\u001b[0;32m    397\u001b[0m     \u001b[1;32mdef\u001b[0m \u001b[0m_request\u001b[0m\u001b[1;33m(\u001b[0m\u001b[0mself\u001b[0m\u001b[1;33m,\u001b[0m \u001b[0mmethod\u001b[0m\u001b[1;33m,\u001b[0m \u001b[0murl\u001b[0m\u001b[1;33m,\u001b[0m \u001b[0mbody\u001b[0m\u001b[1;33m=\u001b[0m\u001b[1;32mNone\u001b[0m\u001b[1;33m)\u001b[0m\u001b[1;33m:\u001b[0m\u001b[1;33m\u001b[0m\u001b[0m\n",
      "\u001b[1;32mC:\\Users\\Daria\\Anaconda3\\lib\\site-packages\\selenium\\webdriver\\remote\\remote_connection.py\u001b[0m in \u001b[0;36m_request\u001b[1;34m(self, method, url, body)\u001b[0m\n\u001b[0;32m    424\u001b[0m             \u001b[1;32mtry\u001b[0m\u001b[1;33m:\u001b[0m\u001b[1;33m\u001b[0m\u001b[0m\n\u001b[0;32m    425\u001b[0m                 \u001b[0mself\u001b[0m\u001b[1;33m.\u001b[0m\u001b[0m_conn\u001b[0m\u001b[1;33m.\u001b[0m\u001b[0mrequest\u001b[0m\u001b[1;33m(\u001b[0m\u001b[0mmethod\u001b[0m\u001b[1;33m,\u001b[0m \u001b[0mparsed_url\u001b[0m\u001b[1;33m.\u001b[0m\u001b[0mpath\u001b[0m\u001b[1;33m,\u001b[0m \u001b[0mbody\u001b[0m\u001b[1;33m,\u001b[0m \u001b[0mheaders\u001b[0m\u001b[1;33m)\u001b[0m\u001b[1;33m\u001b[0m\u001b[0m\n\u001b[1;32m--> 426\u001b[1;33m                 \u001b[0mresp\u001b[0m \u001b[1;33m=\u001b[0m \u001b[0mself\u001b[0m\u001b[1;33m.\u001b[0m\u001b[0m_conn\u001b[0m\u001b[1;33m.\u001b[0m\u001b[0mgetresponse\u001b[0m\u001b[1;33m(\u001b[0m\u001b[1;33m)\u001b[0m\u001b[1;33m\u001b[0m\u001b[0m\n\u001b[0m\u001b[0;32m    427\u001b[0m             \u001b[1;32mexcept\u001b[0m \u001b[1;33m(\u001b[0m\u001b[0mhttplib\u001b[0m\u001b[1;33m.\u001b[0m\u001b[0mHTTPException\u001b[0m\u001b[1;33m,\u001b[0m \u001b[0msocket\u001b[0m\u001b[1;33m.\u001b[0m\u001b[0merror\u001b[0m\u001b[1;33m)\u001b[0m\u001b[1;33m:\u001b[0m\u001b[1;33m\u001b[0m\u001b[0m\n\u001b[0;32m    428\u001b[0m                 \u001b[0mself\u001b[0m\u001b[1;33m.\u001b[0m\u001b[0m_conn\u001b[0m\u001b[1;33m.\u001b[0m\u001b[0mclose\u001b[0m\u001b[1;33m(\u001b[0m\u001b[1;33m)\u001b[0m\u001b[1;33m\u001b[0m\u001b[0m\n",
      "\u001b[1;32mC:\\Users\\Daria\\Anaconda3\\lib\\http\\client.py\u001b[0m in \u001b[0;36mgetresponse\u001b[1;34m(self)\u001b[0m\n\u001b[0;32m   1172\u001b[0m         \u001b[1;32mtry\u001b[0m\u001b[1;33m:\u001b[0m\u001b[1;33m\u001b[0m\u001b[0m\n\u001b[0;32m   1173\u001b[0m             \u001b[1;32mtry\u001b[0m\u001b[1;33m:\u001b[0m\u001b[1;33m\u001b[0m\u001b[0m\n\u001b[1;32m-> 1174\u001b[1;33m                 \u001b[0mresponse\u001b[0m\u001b[1;33m.\u001b[0m\u001b[0mbegin\u001b[0m\u001b[1;33m(\u001b[0m\u001b[1;33m)\u001b[0m\u001b[1;33m\u001b[0m\u001b[0m\n\u001b[0m\u001b[0;32m   1175\u001b[0m             \u001b[1;32mexcept\u001b[0m \u001b[0mConnectionError\u001b[0m\u001b[1;33m:\u001b[0m\u001b[1;33m\u001b[0m\u001b[0m\n\u001b[0;32m   1176\u001b[0m                 \u001b[0mself\u001b[0m\u001b[1;33m.\u001b[0m\u001b[0mclose\u001b[0m\u001b[1;33m(\u001b[0m\u001b[1;33m)\u001b[0m\u001b[1;33m\u001b[0m\u001b[0m\n",
      "\u001b[1;32mC:\\Users\\Daria\\Anaconda3\\lib\\http\\client.py\u001b[0m in \u001b[0;36mbegin\u001b[1;34m(self)\u001b[0m\n\u001b[0;32m    280\u001b[0m         \u001b[1;31m# read until we get a non-100 response\u001b[0m\u001b[1;33m\u001b[0m\u001b[1;33m\u001b[0m\u001b[0m\n\u001b[0;32m    281\u001b[0m         \u001b[1;32mwhile\u001b[0m \u001b[1;32mTrue\u001b[0m\u001b[1;33m:\u001b[0m\u001b[1;33m\u001b[0m\u001b[0m\n\u001b[1;32m--> 282\u001b[1;33m             \u001b[0mversion\u001b[0m\u001b[1;33m,\u001b[0m \u001b[0mstatus\u001b[0m\u001b[1;33m,\u001b[0m \u001b[0mreason\u001b[0m \u001b[1;33m=\u001b[0m \u001b[0mself\u001b[0m\u001b[1;33m.\u001b[0m\u001b[0m_read_status\u001b[0m\u001b[1;33m(\u001b[0m\u001b[1;33m)\u001b[0m\u001b[1;33m\u001b[0m\u001b[0m\n\u001b[0m\u001b[0;32m    283\u001b[0m             \u001b[1;32mif\u001b[0m \u001b[0mstatus\u001b[0m \u001b[1;33m!=\u001b[0m \u001b[0mCONTINUE\u001b[0m\u001b[1;33m:\u001b[0m\u001b[1;33m\u001b[0m\u001b[0m\n\u001b[0;32m    284\u001b[0m                 \u001b[1;32mbreak\u001b[0m\u001b[1;33m\u001b[0m\u001b[0m\n",
      "\u001b[1;32mC:\\Users\\Daria\\Anaconda3\\lib\\http\\client.py\u001b[0m in \u001b[0;36m_read_status\u001b[1;34m(self)\u001b[0m\n\u001b[0;32m    241\u001b[0m \u001b[1;33m\u001b[0m\u001b[0m\n\u001b[0;32m    242\u001b[0m     \u001b[1;32mdef\u001b[0m \u001b[0m_read_status\u001b[0m\u001b[1;33m(\u001b[0m\u001b[0mself\u001b[0m\u001b[1;33m)\u001b[0m\u001b[1;33m:\u001b[0m\u001b[1;33m\u001b[0m\u001b[0m\n\u001b[1;32m--> 243\u001b[1;33m         \u001b[0mline\u001b[0m \u001b[1;33m=\u001b[0m \u001b[0mstr\u001b[0m\u001b[1;33m(\u001b[0m\u001b[0mself\u001b[0m\u001b[1;33m.\u001b[0m\u001b[0mfp\u001b[0m\u001b[1;33m.\u001b[0m\u001b[0mreadline\u001b[0m\u001b[1;33m(\u001b[0m\u001b[0m_MAXLINE\u001b[0m \u001b[1;33m+\u001b[0m \u001b[1;36m1\u001b[0m\u001b[1;33m)\u001b[0m\u001b[1;33m,\u001b[0m \u001b[1;34m\"iso-8859-1\"\u001b[0m\u001b[1;33m)\u001b[0m\u001b[1;33m\u001b[0m\u001b[0m\n\u001b[0m\u001b[0;32m    244\u001b[0m         \u001b[1;32mif\u001b[0m \u001b[0mlen\u001b[0m\u001b[1;33m(\u001b[0m\u001b[0mline\u001b[0m\u001b[1;33m)\u001b[0m \u001b[1;33m>\u001b[0m \u001b[0m_MAXLINE\u001b[0m\u001b[1;33m:\u001b[0m\u001b[1;33m\u001b[0m\u001b[0m\n\u001b[0;32m    245\u001b[0m             \u001b[1;32mraise\u001b[0m \u001b[0mLineTooLong\u001b[0m\u001b[1;33m(\u001b[0m\u001b[1;34m\"status line\"\u001b[0m\u001b[1;33m)\u001b[0m\u001b[1;33m\u001b[0m\u001b[0m\n",
      "\u001b[1;32mC:\\Users\\Daria\\Anaconda3\\lib\\socket.py\u001b[0m in \u001b[0;36mreadinto\u001b[1;34m(self, b)\u001b[0m\n\u001b[0;32m    573\u001b[0m         \u001b[1;32mwhile\u001b[0m \u001b[1;32mTrue\u001b[0m\u001b[1;33m:\u001b[0m\u001b[1;33m\u001b[0m\u001b[0m\n\u001b[0;32m    574\u001b[0m             \u001b[1;32mtry\u001b[0m\u001b[1;33m:\u001b[0m\u001b[1;33m\u001b[0m\u001b[0m\n\u001b[1;32m--> 575\u001b[1;33m                 \u001b[1;32mreturn\u001b[0m \u001b[0mself\u001b[0m\u001b[1;33m.\u001b[0m\u001b[0m_sock\u001b[0m\u001b[1;33m.\u001b[0m\u001b[0mrecv_into\u001b[0m\u001b[1;33m(\u001b[0m\u001b[0mb\u001b[0m\u001b[1;33m)\u001b[0m\u001b[1;33m\u001b[0m\u001b[0m\n\u001b[0m\u001b[0;32m    576\u001b[0m             \u001b[1;32mexcept\u001b[0m \u001b[0mtimeout\u001b[0m\u001b[1;33m:\u001b[0m\u001b[1;33m\u001b[0m\u001b[0m\n\u001b[0;32m    577\u001b[0m                 \u001b[0mself\u001b[0m\u001b[1;33m.\u001b[0m\u001b[0m_timeout_occurred\u001b[0m \u001b[1;33m=\u001b[0m \u001b[1;32mTrue\u001b[0m\u001b[1;33m\u001b[0m\u001b[0m\n",
      "\u001b[1;31mKeyboardInterrupt\u001b[0m: "
     ]
    }
   ],
   "source": [
    "# Для каждого ресторана заходим в href, проходимся по ссылкам и собираем дату и рейтинг для каждого отзыва\n",
    "# Записываем даты и рейтинги в structured numpy array\n",
    "# Добавляем в датафрейм column и помещаем туда массив для каждого ресторана\n",
    "for href in database['Hrefs']:\n",
    "    name = database['Name'][database['Hrefs'] == href]\n",
    "    print(name)\n",
    "    revs = get_revs_data(href)\n",
    "    revs.to_excel(writer, sheet_name = str(name.values[0]))\n",
    "    print(name, 'DONE')"
   ]
  },
  {
   "cell_type": "code",
   "execution_count": 16,
   "metadata": {
    "collapsed": false
   },
   "outputs": [],
   "source": [
    "writer.save()"
   ]
  },
  {
   "cell_type": "markdown",
   "metadata": {},
   "source": [
    "## Старый код и графики"
   ]
  },
  {
   "cell_type": "raw",
   "metadata": {
    "collapsed": true
   },
   "source": [
    "График даты первого отзыва на размер (текущего) чека:\n",
    "------------------------------------------------\n",
    "Можно визуально оценить зависимость даты первого отзыва от размера среднего чека ресторана. Идея в том, что дата первого отзыва приближает момент, когда ресторан был открыт / замечен посетителями. Соображения о сумме чека, указанные в начале, остаются в силе"
   ]
  },
  {
   "cell_type": "raw",
   "metadata": {
    "collapsed": false,
    "scrolled": true
   },
   "source": [
    "database['1st revw date'] = pd.Series([database['Stats'][i][0].datetime64 for i in range(0, len(database.index))])"
   ]
  },
  {
   "cell_type": "raw",
   "metadata": {
    "collapsed": false,
    "scrolled": true
   },
   "source": [
    "database[1:10]"
   ]
  },
  {
   "cell_type": "raw",
   "metadata": {
    "collapsed": false,
    "scrolled": true
   },
   "source": [
    "database.plot(x = '1st revw date',  y = 'Avg check', figsize = [40, 20])"
   ]
  },
  {
   "cell_type": "raw",
   "metadata": {},
   "source": [
    "Видно, что после 2015 г. был только один большой пик - первый отзыв на ресторан с размером чека более 15000 руб, также уменьшилось количество первых отзывов на рестораны с чеком в рамках 7000-15000.  Также можно заметить, что количество первых отзывов на рестораны с чеком <5000 руб увеличилось по сравнению с последними двумя годами (по более плотному заполнению пиками), но это может быть объяснено многими факторами, помимо возросшего внимания потребителей к недорогим ресторанам: например, возросшей популярностью самого ресурса tripadvisor.ru"
   ]
  },
  {
   "cell_type": "raw",
   "metadata": {
    "collapsed": true
   },
   "source": [
    "В следующем графике была сделана попытка визуализировать частотное распределение всех отзывов в зависимости от среднего чека"
   ]
  },
  {
   "cell_type": "raw",
   "metadata": {
    "collapsed": false
   },
   "source": [
    "lst = []\n",
    "for i in range(0, len(database.index)):\n",
    "    for j in range(0, database['Stats'][i].size):\n",
    "        x = (database['Stats'][i][j].datetime64, database['Avg check'][i])\n",
    "        lst.append(x)"
   ]
  },
  {
   "cell_type": "raw",
   "metadata": {
    "collapsed": false
   },
   "source": [
    "date_check_arr = np.rec.array(lst, dtype=[('datetime64', 'O'), ('check', 'f')])"
   ]
  },
  {
   "cell_type": "raw",
   "metadata": {
    "collapsed": false,
    "scrolled": true
   },
   "source": [
    "plt.figure(figsize=(80,60))\n",
    "plt.scatter(date_check_arr.datetime64, date_check_arr.check)"
   ]
  },
  {
   "cell_type": "raw",
   "metadata": {
    "collapsed": false
   },
   "source": [
    "Но как видно, такая картинка ничего не дала, потому что точки расположены слишком плотно :(   \n",
    "Поэтому для третьего графика было решено рассчитать процентное изменение количества отзывов за каждый месяц, разделить линии ресторанов по цвету в зависимости от величины чека и посмотреть, линии какого цвета будут стремиться преимущественно к верхнему, а какие - к нижнему сегменту графика в период с 2015 г."
   ]
  },
  {
   "cell_type": "raw",
   "metadata": {
    "collapsed": false
   },
   "source": [
    "def get_percent_chnge(arr, lst):\n",
    "    months = np.arange('2008-01', '2016-05', dtype='datetime64').astype('O')\n",
    "    months_counts = np.core.records.fromarrays([months, np.zeros_like(months, dtype = 'i')], names = 'date, count')\n",
    "    for i in arr:\n",
    "        for j in months_counts:\n",
    "            if i.datetime64.month==j.date.month and i.datetime64.year==j.date.year:\n",
    "                j.count += 1\n",
    "    base_value_index = np.nonzero(months_counts.count)[0][0]-1\n",
    "    months_counts.count = np.cumsum(months_counts.count)\n",
    "    change_array = np.diff(months_counts.count) / np.abs(months_counts[:-1].count)*100\n",
    "    change_array[base_value_index] = 0\n",
    "    change_array[np.isnan(change_array)] = 0\n",
    "    change_array = np.insert(change_array, 1, 0)\n",
    "    months_change = np.core.records.fromarrays([months, np.cumsum(change_array)], dtype=[('date', 'O'), ('change', '<f2')], names = 'date, change')\n",
    "    lst.append(months_change)"
   ]
  },
  {
   "cell_type": "raw",
   "metadata": {
    "collapsed": false,
    "scrolled": true
   },
   "source": [
    "percent_changes = []\n",
    "for i in database['Stats']:\n",
    "    get_percent_chnge(i, percent_changes)"
   ]
  },
  {
   "cell_type": "raw",
   "metadata": {
    "collapsed": true
   },
   "source": [
    "database['% chnge 2008-2016'] = percent_changes"
   ]
  },
  {
   "cell_type": "raw",
   "metadata": {
    "collapsed": false,
    "scrolled": true
   },
   "source": [
    "filters = np.linspace(database['Avg check'].min(), database['Avg check'].max()+1, 30)\n",
    "filter_pairs = [tuple(p) for p in np.split(filters, 15)]\n",
    "color_ids = np.linspace(0, 1, len(filter_pairs))\n",
    "plt.figure(figsize=(100,80))\n",
    "for f,i in enumerate(color_ids):\n",
    "    x = database['% chnge 2008-2016'][(database['Avg check']>filter_pairs[f][0]) & (database['Avg check']<filter_pairs[f][1])]\n",
    "    for j in x:\n",
    "        plt.plot(j.date, j.change, color=plt.cm.cool(i), lw=9)"
   ]
  },
  {
   "cell_type": "raw",
   "metadata": {},
   "source": [
    "На этом графике рестораны от более дорогого чека к более дешевому меняют цвет с фиолетового на голубой. Хотя график опять очень плотный, видно, что динамика изменения количества отзывов выше для ресторанов из более бюджетных категорий, причем этот тренд наметился даже раньше 2015 г, что, возможно, объясняется спецификой ресурса tripadvisor. Есть несколько подозрительно резко набравших отзывы бюджетных ресторанов, для которых будет интересно посмотреть на рейтинг отзывов. Видно, что для большинства ресторанов наклон кривой прироста количества отзывов падает, что, в том числе, говорит о том, что люди уменьшили число походов в рестораны в принципе. Такая приближенная картинка согласуется с предположениями, выдвинутыми в начале."
   ]
  },
  {
   "cell_type": "raw",
   "metadata": {},
   "source": [
    "В заключение нужно пояснить, что рейтинги, собранные вместе с датой каждого отзыва, не использованные в данном проекте, я собрала, чтобы воспользоваться ими в следующем проекте на R.\n",
    "Спасибо за внимание :)"
   ]
  }
 ],
 "metadata": {
  "celltoolbar": "Raw Cell Format",
  "kernelspec": {
   "display_name": "Python 3",
   "language": "python",
   "name": "python3"
  },
  "language_info": {
   "codemirror_mode": {
    "name": "ipython",
    "version": 3
   },
   "file_extension": ".py",
   "mimetype": "text/x-python",
   "name": "python",
   "nbconvert_exporter": "python",
   "pygments_lexer": "ipython3",
   "version": "3.5.1"
  }
 },
 "nbformat": 4,
 "nbformat_minor": 0
}
